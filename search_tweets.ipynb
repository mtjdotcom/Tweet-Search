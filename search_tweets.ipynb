{
 "cells": [
  {
   "cell_type": "markdown",
   "metadata": {},
   "source": [
    "# Search for duplicate users"
   ]
  },
  {
   "cell_type": "markdown",
   "metadata": {},
   "source": [
    "#### Hardware\n",
    "* Mid-2013 MacBook Air\n",
    "* 1.3 GHz Core i5\n",
    "* 4GB RAM\n",
    "* Storage: USB 1.0 iomega external drive"
   ]
  },
  {
   "cell_type": "markdown",
   "metadata": {},
   "source": [
    "#### Import Dependencies\n",
    "* **Ujson:** UltraJSON is an ultra fast JSON encoder and decoder written in pure C with bindings for Python 2.5+ and 3. \n",
    "* **Gzip:** This module provides a simple interface to compress and decompress files just like the GNU programs gzip and gunzip\n",
    "* **Collections defaultdict:** Returns a new dictionary-like object. Defaultdict is a subclass of the built-in dict class"
   ]
  },
  {
   "cell_type": "markdown",
   "metadata": {},
   "source": [
    "#### Data: https://rffiles.s3.amazonaws.com/username_sample.jsonrows.gz \n",
    "Note: 12.5GB uncompressed"
   ]
  },
  {
   "cell_type": "code",
   "execution_count": 8,
   "metadata": {},
   "outputs": [],
   "source": [
    "import ujson\n",
    "import gzip\n",
    "from collections import defaultdict"
   ]
  },
  {
   "cell_type": "code",
   "execution_count": 88,
   "metadata": {},
   "outputs": [],
   "source": [
    "# performance lists\n",
    "bottle_names = []\n",
    "bottle_entries = []\n",
    "bottle_export = []"
   ]
  },
  {
   "cell_type": "markdown",
   "metadata": {},
   "source": [
    "#### Find Duplicate Names\n",
    "* Created an index from duplicate names\n",
    "* Used gzip to stream in data, unable to load into memory"
   ]
  },
  {
   "cell_type": "code",
   "execution_count": 10,
   "metadata": {},
   "outputs": [],
   "source": [
    "#%%timeit - for use with jupyter notebook\n",
    "def find_duplicate_names(file):\n",
    "    #start = time.time()\n",
    "    names = defaultdict(int)\n",
    "    #stream file in one line at a time with gzip\n",
    "    with gzip.open(file) as stream:\n",
    "        for line in stream:\n",
    "            obj = ujson.loads(line)\n",
    "            names[obj['name']] += 1\n",
    "\n",
    "    #count names and discard names that appear < 1\n",
    "    names = { key:value for key, value in names.items() if value > 1 }\n",
    "    names = dict((names, list()) for names in names)\n",
    "    #bottle_names.append(time.time() - start)\n",
    "    return(names)"
   ]
  },
  {
   "cell_type": "markdown",
   "metadata": {},
   "source": [
    "#### Find Duplicate Tweets via Name Index\n",
    "* Names are used as an index to scan potential duplicate tweets\n",
    "* Full tweets are streamed and checked against names index\n",
    "* The entire tweet is captured if there’s a match  "
   ]
  },
  {
   "cell_type": "code",
   "execution_count": 11,
   "metadata": {},
   "outputs": [],
   "source": [
    "#%%timeit - for use with jupyter notebook\n",
    "def find_duplicate_entries(file):\n",
    "    #start_2 = time.time()\n",
    "    #call find_duplicate_names - names to be matched with corresponding tweets\n",
    "    names = find_duplicate_names(file)\n",
    "    #stream file in one line at a time with gzip\n",
    "    with gzip.open(file) as stream:\n",
    "        for line in stream:\n",
    "            obj = ujson.loads(line)\n",
    "            if obj['name'] in names:\n",
    "                names[obj['name']].append(obj)\n",
    "            else:\n",
    "                continue\n",
    "    #bottle_entries.append(time.time() - start_2)\n",
    "    return(names)"
   ]
  },
  {
   "cell_type": "markdown",
   "metadata": {},
   "source": [
    "#### Merge & Export Function\n",
    "* Merge happens at export in case there’s additional analysis to be done beforehand"
   ]
  },
  {
   "cell_type": "code",
   "execution_count": 12,
   "metadata": {},
   "outputs": [],
   "source": [
    "#%%timeit - for use with jupyter notebook\n",
    "def export_duplicates(file):\n",
    "    #start_3 = time.time()\n",
    "    #call find_duplicate_entries\n",
    "    names = find_duplicate_entries(file)\n",
    "    #write and merge\n",
    "    with open(\"output_test_1.txt\",\"w\") as export:\n",
    "        for key, tweet in names.items():\n",
    "            ujson.dump({**tweet[0], **tweet[1]}, export)\n",
    "    #bottle_export.append(time.time() - start_3)        "
   ]
  },
  {
   "cell_type": "markdown",
   "metadata": {},
   "source": [
    "#### Call Function"
   ]
  },
  {
   "cell_type": "code",
   "execution_count": 92,
   "metadata": {},
   "outputs": [],
   "source": [
    "# normal call function\n",
    "#export_duplicates('username_sample_large.jsonrows.gz')\n",
    "\n",
    "# Performance testing calls below\n",
    "#........................................\n",
    "# files = ['username_sample_1k.jsonrows.gz', 'username_sample_10k.jsonrows.gz', 'username_sample_100k.jsonrows.gz', 'username_sample_1m.jsonrows.gz', 'username_sample_10m.jsonrows.gz']\n",
    "# file_length = [1, 10, 100, 1000, 10000]\n",
    "# counters = []\n",
    "\n",
    "# for file in files:\n",
    "#     start = time.time()\n",
    "#     export_duplicates(file)\n",
    "#     counters.append(time.time() - start)\n",
    "\n",
    "\n",
    "# bottleneck finder \n",
    "#........................................\n",
    "for _ in range(50):\n",
    "    export_duplicates('username_sample_100k.jsonrows.gz')\n",
    "    "
   ]
  },
  {
   "cell_type": "markdown",
   "metadata": {},
   "source": [
    "## Performance Benchmarking & Profiling"
   ]
  },
  {
   "cell_type": "code",
   "execution_count": 7,
   "metadata": {},
   "outputs": [],
   "source": [
    "import time\n",
    "import cProfile\n",
    "import statistics\n",
    "import matplotlib.pyplot as plt"
   ]
  },
  {
   "cell_type": "markdown",
   "metadata": {},
   "source": [
    "### Time vs. Rows"
   ]
  },
  {
   "cell_type": "code",
   "execution_count": 26,
   "metadata": {},
   "outputs": [
    {
     "data": {
      "image/png": "[encoded data removed]",
      "text/plain": [
       "<Figure size 432x288 with 1 Axes>"
      ]
     },
     "metadata": {},
     "output_type": "display_data"
    }
   ],
   "source": [
    "plt.plot(file_length, counters)\n",
    "plt.ylabel('Time Seconds')\n",
    "plt.xlabel('Rows 1000s')\n",
    "plt.title('Algorithm Performance')\n",
    "plt.grid(True)\n",
    "plt.show()"
   ]
  },
  {
   "cell_type": "markdown",
   "metadata": {},
   "source": [
    "### Finding the Bottlenecks \n",
    "* Data: username_sample_100k.jsonrows.gz\n",
    "* Sample Size (per function): 50"
   ]
  },
  {
   "cell_type": "markdown",
   "metadata": {},
   "source": [
    "#### Finding Names"
   ]
  },
  {
   "cell_type": "code",
   "execution_count": 93,
   "metadata": {},
   "outputs": [
    {
     "name": "stdout",
     "output_type": "stream",
     "text": [
      "Median Name Search: 0.928789496421814\n"
     ]
    },
    {
     "data": {
      "image/png": "[encoded data removed]",
      "text/plain": [
       "<Figure size 432x288 with 1 Axes>"
      ]
     },
     "metadata": {},
     "output_type": "display_data"
    }
   ],
   "source": [
    "print(\"Median Name Search: \" + str(statistics.median(bottle_names)))\n",
    "plt.hist(bottle_names, bins=50)\n",
    "plt.title('Names Function Times')\n",
    "plt.xlabel('Seconds')\n",
    "plt.show()"
   ]
  },
  {
   "cell_type": "markdown",
   "metadata": {},
   "source": [
    "#### Finding Entries"
   ]
  },
  {
   "cell_type": "code",
   "execution_count": 94,
   "metadata": {},
   "outputs": [
    {
     "name": "stdout",
     "output_type": "stream",
     "text": [
      "Median Entries Search: 1.7753039598464966\n"
     ]
    },
    {
     "data": {
      "image/png": "[encoded data removed]",
      "text/plain": [
       "<Figure size 432x288 with 1 Axes>"
      ]
     },
     "metadata": {},
     "output_type": "display_data"
    }
   ],
   "source": [
    "print(\"Median Entries Search: \" + str(statistics.median(bottle_entries)))\n",
    "plt.hist(bottle_entries, bins=50)\n",
    "plt.title('Entries Function Times')\n",
    "plt.xlabel('Seconds')\n",
    "plt.show()"
   ]
  },
  {
   "cell_type": "markdown",
   "metadata": {},
   "source": [
    "#### Export Duplicates"
   ]
  },
  {
   "cell_type": "code",
   "execution_count": 95,
   "metadata": {},
   "outputs": [
    {
     "name": "stdout",
     "output_type": "stream",
     "text": [
      "Median Export: 1.8108676671981812\n"
     ]
    },
    {
     "data": {
      "image/png": "[encoded data removed]",
      "text/plain": [
       "<Figure size 432x288 with 1 Axes>"
      ]
     },
     "metadata": {},
     "output_type": "display_data"
    }
   ],
   "source": [
    "print(\"Median Export: \" + str(statistics.median(bottle_export)))\n",
    "plt.hist(bottle_export, bins=50)\n",
    "plt.title('Export Function Times')\n",
    "plt.xlabel('Seconds')\n",
    "plt.show()"
   ]
  },
  {
   "cell_type": "markdown",
   "metadata": {},
   "source": [
    "#### Combined Function Times"
   ]
  },
  {
   "cell_type": "code",
   "execution_count": 96,
   "metadata": {},
   "outputs": [
    {
     "name": "stdout",
     "output_type": "stream",
     "text": [
      "Median Names Search: 0.928789496421814\n",
      "Median Entries Search: 1.7753039598464966\n",
      "Median Export: 1.8108676671981812\n"
     ]
    },
    {
     "data": {
      "image/png": "[encoded data removed]",
      "text/plain": [
       "<Figure size 432x288 with 1 Axes>"
      ]
     },
     "metadata": {},
     "output_type": "display_data"
    }
   ],
   "source": [
    "print(\"Median Names Search: \" + str(statistics.median(bottle_names)))\n",
    "print(\"Median Entries Search: \" + str(statistics.median(bottle_entries)))\n",
    "print(\"Median Export: \" + str(statistics.median(bottle_export)))\n",
    "plt.hist(bottle_names, bins=50, label=\"Names\")\n",
    "plt.hist(bottle_export, bins=50, label=\"Export\")\n",
    "plt.hist(bottle_entries, bins=50, label=\"Entries\")\n",
    "plt.legend(bbox_to_anchor=(1.05, 1), loc=2, borderaxespad=0.)\n",
    "plt.title('Function Times')\n",
    "plt.xlabel('Seconds')\n",
    "plt.show()"
   ]
  },
  {
   "cell_type": "markdown",
   "metadata": {},
   "source": [
    "### cProfiler\n",
    "The profile below is a set of statistics that describes how often and for how long various parts of the program are executed"
   ]
  },
  {
   "cell_type": "code",
   "execution_count": 14,
   "metadata": {},
   "outputs": [
    {
     "name": "stdout",
     "output_type": "stream",
     "text": [
      "Export Duplicates\n",
      "         1097246 function calls in 2.795 seconds\n",
      "\n",
      "   Ordered by: standard name\n",
      "\n",
      "   ncalls  tottime  percall  cumtime  percall filename:lineno(function)\n",
      "        1    0.006    0.006    0.006    0.006 <ipython-input-10-a50014a206d0>:12(<dictcomp>)\n",
      "       19    0.000    0.000    0.000    0.000 <ipython-input-10-a50014a206d0>:13(<genexpr>)\n",
      "        1    0.244    0.244    1.790    1.790 <ipython-input-10-a50014a206d0>:2(find_duplicate_names)\n",
      "        1    0.149    0.149    2.750    2.750 <ipython-input-11-c3dd5201376f>:2(find_duplicate_entries)\n",
      "        1    0.001    0.001    2.793    2.793 <ipython-input-12-8b8e0d6fb254>:2(export_duplicates)\n",
      "        1    0.001    0.001    2.795    2.795 <string>:1(<module>)\n",
      "        1    0.000    0.000    0.000    0.000 _bootlocale.py:23(getpreferredencoding)\n",
      "   200002    0.095    0.000    0.139    0.000 _compression.py:12(_check_not_closed)\n",
      "        2    0.000    0.000    0.000    0.000 _compression.py:150(tell)\n",
      "        2    0.000    0.000    0.000    0.000 _compression.py:36(readable)\n",
      "        2    0.000    0.000    0.000    0.000 _compression.py:39(__init__)\n",
      "        2    0.000    0.000    0.000    0.000 _compression.py:59(close)\n",
      "     6464    0.031    0.000    1.078    0.000 _compression.py:66(readinto)\n",
      "        1    0.000    0.000    0.000    0.000 codecs.py:185(__init__)\n",
      "        2    0.000    0.000    0.000    0.000 gzip.py:123(__init__)\n",
      "        2    0.000    0.000    0.001    0.000 gzip.py:20(open)\n",
      "   200008    0.044    0.000    0.044    0.000 gzip.py:298(closed)\n",
      "        2    0.000    0.000    0.000    0.000 gzip.py:302(close)\n",
      "   200002    0.154    0.000    1.573    0.000 gzip.py:372(readline)\n",
      "        2    0.000    0.000    0.000    0.000 gzip.py:378(__init__)\n",
      "        4    0.000    0.000    0.000    0.000 gzip.py:385(_init_read)\n",
      "        4    0.000    0.000    0.000    0.000 gzip.py:389(_read_exact)\n",
      "        4    0.000    0.000    0.600    0.150 gzip.py:405(_read_gzip_header)\n",
      "     6464    0.035    0.000    1.040    0.000 gzip.py:438(read)\n",
      "     6462    0.010    0.000    0.092    0.000 gzip.py:489(_add_read_data)\n",
      "        2    0.000    0.000    0.000    0.000 gzip.py:493(_read_eof)\n",
      "        2    0.000    0.000    0.000    0.000 gzip.py:74(__init__)\n",
      "     6532    0.023    0.000    0.670    0.000 gzip.py:80(read)\n",
      "     6462    0.010    0.000    0.012    0.000 gzip.py:93(prepend)\n",
      "        1    0.000    0.000    0.000    0.000 {built-in method _locale.nl_langinfo}\n",
      "        4    0.000    0.000    0.000    0.000 {built-in method _struct.unpack}\n",
      "        1    0.000    0.000    2.795    2.795 {built-in method builtins.exec}\n",
      "        2    0.000    0.000    0.000    0.000 {built-in method builtins.isinstance}\n",
      "    38784    0.007    0.000    0.007    0.000 {built-in method builtins.len}\n",
      "        3    0.043    0.014    0.043    0.014 {built-in method io.open}\n",
      "        2    0.000    0.000    0.000    0.000 {built-in method posix.fspath}\n",
      "       18    0.000    0.000    0.000    0.000 {built-in method ujson.dump}\n",
      "   200000    0.777    0.000    0.777    0.000 {built-in method ujson.loads}\n",
      "     6466    0.080    0.000    0.080    0.000 {built-in method zlib.crc32}\n",
      "        4    0.000    0.000    0.000    0.000 {built-in method zlib.decompressobj}\n",
      "        2    0.000    0.000    0.000    0.000 {function DecompressReader.close at 0x1035cb268}\n",
      "       36    0.000    0.000    0.000    0.000 {method 'append' of 'list' objects}\n",
      "     6464    0.003    0.000    0.003    0.000 {method 'cast' of 'memoryview' objects}\n",
      "        4    0.000    0.000    0.000    0.000 {method 'close' of '_io.BufferedReader' objects}\n",
      "     6462    0.231    0.000    0.231    0.000 {method 'decompress' of 'zlib.Decompress' objects}\n",
      "        1    0.000    0.000    0.000    0.000 {method 'disable' of '_lsprof.Profiler' objects}\n",
      "        2    0.000    0.000    0.000    0.000 {method 'items' of 'dict' objects}\n",
      "     6530    0.647    0.000    0.647    0.000 {method 'read' of '_io.BufferedReader' objects}\n",
      "   200002    0.203    0.000    1.281    0.000 {method 'readline' of '_io.BufferedReader' objects}\n",
      "        2    0.000    0.000    0.000    0.000 {method 'replace' of 'str' objects}\n",
      "        2    0.000    0.000    0.000    0.000 {method 'startswith' of 'str' objects}\n",
      "\n",
      "\n"
     ]
    }
   ],
   "source": [
    "print(\"Export Duplicates\")\n",
    "cProfile.run(\"export_duplicates('username_sample_100k.jsonrows.gz')\")"
   ]
  },
  {
   "cell_type": "code",
   "execution_count": null,
   "metadata": {},
   "outputs": [],
   "source": []
  }
 ],
 "metadata": {
  "kernelspec": {
   "display_name": "Python 3",
   "language": "python",
   "name": "python3"
  },
  "language_info": {
   "codemirror_mode": {
    "name": "ipython",
    "version": 3
   },
   "file_extension": ".py",
   "mimetype": "text/x-python",
   "name": "python",
   "nbconvert_exporter": "python",
   "pygments_lexer": "ipython3",
   "version": "3.6.5"
  }
 },
 "nbformat": 4,
 "nbformat_minor": 2
}
